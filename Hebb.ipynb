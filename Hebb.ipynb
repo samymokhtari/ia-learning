{
  "cells": [
    {
      "cell_type": "markdown",
      "metadata": {
        "id": "view-in-github",
        "colab_type": "text"
      },
      "source": [
        "<a href=\"https://colab.research.google.com/github/samymokhtari/ia-learning/blob/main/Hebb.ipynb\" target=\"_parent\"><img src=\"https://colab.research.google.com/assets/colab-badge.svg\" alt=\"Open In Colab\"/></a>"
      ]
    },
    {
      "cell_type": "markdown",
      "metadata": {
        "id": "D3RetdCRCJl_"
      },
      "source": [
        "# Premier apprentissage\n",
        "## 1. Chargement du jeu de données\n",
        "Jeux de caractères manuscrits proposé par scikitlearn\n",
        "Représentation des données"
      ]
    },
    {
      "cell_type": "code",
      "execution_count": 1,
      "metadata": {
        "scrolled": false,
        "colab": {
          "base_uri": "https://localhost:8080/",
          "height": 369
        },
        "id": "YF0Zqex2CJmB",
        "outputId": "be826473-293e-49ec-c6f9-9956319a4985"
      },
      "outputs": [
        {
          "output_type": "stream",
          "name": "stdout",
          "text": [
            "Clefs :  ['data', 'target', 'frame', 'feature_names', 'target_names', 'images', 'DESCR']\n",
            "Data :  [ 0.  0.  0.  0. 12.  2.  0.  0.  0.  0.  0.  6. 14.  1.  0.  0.  0.  0.\n",
            "  4. 16.  7.  8.  0.  0.  0.  0. 13.  9.  0. 16.  6.  0.  0.  6. 16. 10.\n",
            " 11. 16.  0.  0.  0.  0.  5. 10. 13. 16.  0.  0.  0.  0.  0.  0.  6. 16.\n",
            "  0.  0.  0.  0.  0.  0. 12.  8.  0.  0.]\n",
            "Annotation : 4\n"
          ]
        },
        {
          "output_type": "display_data",
          "data": {
            "text/plain": [
              "<Figure size 432x288 with 1 Axes>"
            ],
            "image/png": "[encoded data removed]"
          },
          "metadata": {
            "needs_background": "light"
          }
        }
      ],
      "source": [
        "%matplotlib inline\n",
        "\n",
        "from sklearn.datasets import load_digits\n",
        "digits = load_digits()\n",
        "\n",
        "# un index quelconque\n",
        "idx = 24\n",
        "\n",
        "# list des clefs du dictionnaire\n",
        "keyList = list(digits.keys())\n",
        "print(\"Clefs : \",keyList)\n",
        "\n",
        "# représentation d'un élément dans data\n",
        "print(\"Data : \", digits.data[idx])\n",
        "\n",
        "# annotation d'un élément de data\n",
        "print(\"Annotation :\",digits.target[idx])\n",
        "\n",
        "import matplotlib.pyplot as plt\n",
        "\n",
        "plt.imshow(digits.images[idx], cmap='gray_r')\n",
        "plt.show() "
      ]
    },
    {
      "cell_type": "code",
      "execution_count": 2,
      "metadata": {
        "colab": {
          "base_uri": "https://localhost:8080/"
        },
        "id": "vXsx-zfECJmC",
        "outputId": "b9ee4078-66f5-47f0-959d-ee6fc982b236"
      },
      "outputs": [
        {
          "output_type": "stream",
          "name": "stdout",
          "text": [
            "/root/scikit_learn_data\n"
          ]
        }
      ],
      "source": [
        "from sklearn.datasets import get_data_home\n",
        "print(get_data_home())"
      ]
    },
    {
      "cell_type": "markdown",
      "metadata": {
        "id": "YPIKmO6BCJmD"
      },
      "source": [
        "## 2. Construction du jeu de données\n",
        "Définition de la fonction split_train_test, son rôle est de mélanger le jeu de données et de le séparer en deux en fonction d'un ratio (par defaut 0.2 soit 20%). Le ratio exprime la partie réserver pour effectuer les calculs de performances du model.  \n",
        "Elle prend en paramètre d'entrèe un tableau de vecteurs, où chaque vecteur représente une données et un tableau contenant les classes correspndantes à chaque vecteurs."
      ]
    },
    {
      "cell_type": "code",
      "execution_count": 3,
      "metadata": {
        "colab": {
          "base_uri": "https://localhost:8080/",
          "height": 334
        },
        "id": "NnnXe-0lCJmD",
        "outputId": "3034b823-5352-4589-e595-ac27a7fc5888"
      },
      "outputs": [
        {
          "output_type": "stream",
          "name": "stdout",
          "text": [
            "[6 9 3 ... 0 7 3]\n",
            "Taille du jeu du jeu d'apprentissage (1437, 64) et taille du jeux de test (359, 64)\n",
            "\n",
            "Caractère à la position 24 dans le jeu de données, il est annoté (5)\n"
          ]
        },
        {
          "output_type": "display_data",
          "data": {
            "text/plain": [
              "<Figure size 432x288 with 1 Axes>"
            ],
            "image/png": "[encoded data removed]"
          },
          "metadata": {
            "needs_background": "light"
          }
        }
      ],
      "source": [
        "import numpy as np\n",
        "\n",
        "def split_train_test( data, annotation, ratio=0.2, seed=42 ):\n",
        "    np.random.seed(seed)\n",
        "    liste = list(zip(data, annotation))\n",
        "    np.random.shuffle(liste)\n",
        "    data, annotation = zip(*liste)\n",
        "    size_test = int( len(data) * (1-ratio) )\n",
        "    return np.array(data[:size_test]), np.array(annotation[:size_test]),\\\n",
        "            np.array(data[size_test+1:]), np.array(annotation[size_test+1:])\n",
        "\n",
        "trainX, trainY, testX, testY = split_train_test( digits.data, digits.target)\n",
        "\n",
        "print(trainY)\n",
        "\n",
        "print(\"Taille du jeu du jeu d'apprentissage {} et taille du jeux de test {}\\n\".format(trainX.shape, testX.shape))\n",
        "\n",
        "# exemple du caractère à la position 24\n",
        "idx = 24\n",
        "print(\"Caractère à la position {} dans le jeu de données, il est annoté ({})\".format( idx, trainY[idx]))\n",
        "plt.imshow(trainX[1].reshape(8,8), cmap='gray_r')\n",
        "plt.show()"
      ]
    },
    {
      "cell_type": "markdown",
      "metadata": {
        "id": "qw8gOSDBCJmE"
      },
      "source": [
        "## 3. Préparation des données\n",
        "Les images sont en nuance de gris sur 16 valeurs, les neuronnes de notre modèle sont de type on/off, on va donc devoir convertir nos jeux  \n",
        "Pour les annotations nous avons 10 classes la classe 0, classe 1 ... classe 9. Pour la même raison que les inputs on va devoir choisir une classe et redéfinir l'annotation à True pour la classe choisi et à False pour toutes les autres."
      ]
    },
    {
      "cell_type": "code",
      "execution_count": 4,
      "metadata": {
        "colab": {
          "base_uri": "https://localhost:8080/",
          "height": 282
        },
        "id": "N-1FrlgUCJmE",
        "outputId": "c2c40aa9-d257-4e04-a05f-9e55b50b2bf0"
      },
      "outputs": [
        {
          "output_type": "stream",
          "name": "stdout",
          "text": [
            "Caractère à la position 24 dans le jeu de données, il est annoté (False)\n"
          ]
        },
        {
          "output_type": "display_data",
          "data": {
            "text/plain": [
              "<Figure size 432x288 with 1 Axes>"
            ],
            "image/png": "[encoded data removed]"
          },
          "metadata": {
            "needs_background": "light"
          }
        }
      ],
      "source": [
        "def modif_input( dataset, seuil = 4 ):\n",
        "    for n in range(len(dataset)):\n",
        "        for i in range(len(dataset[n])):\n",
        "             dataset[n][i] = 1 if dataset[n][i] > seuil else 0\n",
        "    return dataset\n",
        "\n",
        "trainX = modif_input(trainX)\n",
        "testX = modif_input(testX)\n",
        "\n",
        "def modif_output( dataset, classe = 6 ):\n",
        "    dataset = np.array(list(map( lambda x: x==classe, dataset )))\n",
        "    return dataset\n",
        "\n",
        "trainY = modif_output(trainY)\n",
        "testY = modif_output(testY)\n",
        "\n",
        "# exemple du caractère à la position 24\n",
        "idx = 24\n",
        "print(\"Caractère à la position {} dans le jeu de données, il est annoté ({})\".format( idx, trainY[idx]))\n",
        "plt.imshow(trainX[0].reshape(8,8), cmap='gray_r')\n",
        "plt.show()"
      ]
    },
    {
      "cell_type": "markdown",
      "metadata": {
        "id": "BxvT8Z9JCJmF"
      },
      "source": [
        "## 4. Modèle d'apprentissage basé sur HEBB\n",
        "Fonction fit pour l'apprentissage par renforcement des poids, apprentissage binaire, appartient à une classe ou n'appartient pas, retour le tableau des poids du model.  \n",
        "Fonction predict pour classer un tableau de vecteur donné."
      ]
    },
    {
      "cell_type": "code",
      "execution_count": 6,
      "metadata": {
        "id": "l-CgRnNYCJmF"
      },
      "outputs": [],
      "source": [
        "import numpy as np\n",
        "\n",
        "# apprentissage\n",
        "def fit( X, Y ):\n",
        "    weight = np.array([], float)\n",
        "    # initialisation des poids\n",
        "    for i in range(len(X[0])):\n",
        "        weight = np.append( weight, 1 )\n",
        "        \n",
        "    # pour chaque vecteur du jeu de données\n",
        "    for n in range(len(X)):\n",
        "        for i in range(len(X[n])):\n",
        "            weight[i] = weight[i] + X[n][i]*Y[n]\n",
        "        \n",
        "    return weight\n",
        "\n",
        "# classification\n",
        "def predict( X, weight, seuil = 2000 ):\n",
        "    Y = []\n",
        "    for n in range(len(X)):\n",
        "        w = 0\n",
        "        for i in range(len(X[n])):\n",
        "            w = w + X[n][i]*weight[i]\n",
        "        Y.append( w > seuil)\n",
        "    return Y"
      ]
    },
    {
      "cell_type": "markdown",
      "metadata": {
        "id": "iJtMvnL0CJmF"
      },
      "source": [
        "## 5. Mesure de performance\n",
        "Fonction calculant la précision et le rappel\n",
        "Fonction calculant la moyenne harmonique de la précision et du rappel"
      ]
    },
    {
      "cell_type": "code",
      "execution_count": 7,
      "metadata": {
        "id": "MSnTIqvxCJmF"
      },
      "outputs": [],
      "source": [
        "from collections import Counter\n",
        "    \n",
        "def performance( test, predic ):\n",
        "    couple = list(zip(test,predic))\n",
        "    nbrCouple = Counter(couple)\n",
        "    TruePositif = nbrCouple[(True,True)]\n",
        "    FalsePositif = nbrCouple[(False,True)]\n",
        "    TrueNegatif = nbrCouple[(False,False)]\n",
        "    FalseNegatif = nbrCouple[(True,False)]\n",
        "    preci = (TruePositif/(TruePositif+FalsePositif)) if ((TruePositif+FalsePositif)>0) else 0\n",
        "    rappel = (TruePositif/(TruePositif+FalseNegatif)) if ((TruePositif+FalseNegatif)>0) else 0\n",
        "    return preci, rappel"
      ]
    },
    {
      "cell_type": "code",
      "source": [
        "# Calcul des poids pour le jeu d'entraînement\n",
        "w = fit(trainX, trainY)\n",
        "\n",
        "# Classification du jeu de test\n",
        "prediction = predict(testX, w, 2000)\n",
        "\n",
        "# Evaluatation de la performance du modèle\n",
        "preci, rappel = performance(testY, prediction)\n",
        "print(\"Précision du modèle : {:.2f}%\\nSensibilité (rappel) : {:.2f}%\"\n",
        "    .format(preci*100, rappel*100))"
      ],
      "metadata": {
        "colab": {
          "base_uri": "https://localhost:8080/"
        },
        "id": "HpKEHTC8T8rF",
        "outputId": "fd29c2b7-a6a6-4506-b49b-ed30f3f9bf04"
      },
      "execution_count": 9,
      "outputs": [
        {
          "output_type": "stream",
          "name": "stdout",
          "text": [
            "Précision du modèle : 9.75%\n",
            "Sensibilité (rappel) : 100.00%\n"
          ]
        }
      ]
    },
    {
      "cell_type": "code",
      "source": [
        "# Calcul des Scores\n",
        "\n",
        "def score_harmonique( preci, rappel ):\n",
        "    return (2/((1/preci)+(1/rappel))) if ((preci and rappel) != 0) else 0\n",
        "\n",
        "\n",
        "def score( preci, rappel ):\n",
        "    return ((preci + rappel)/2) if ((preci and rappel) != 0) else 0"
      ],
      "metadata": {
        "id": "reKYGA2AUiy-"
      },
      "execution_count": 11,
      "outputs": []
    },
    {
      "cell_type": "code",
      "source": [
        "\n",
        "\n",
        "\n",
        "precisions = []\n",
        "rappels = []\n",
        "seuils = range(1000, 4000)\n",
        "scores = []\n",
        "for seuil in seuils:\n",
        "    prediction = predict(testX, w, seuil)\n",
        "    preci, rappel = performance(testY, prediction)\n",
        "    precisions.append(preci)\n",
        "    rappels.append(rappel)\n",
        "    scores.append(score_harmonique(preci,rappel))\n",
        "\n",
        "plt.plot(seuils, precisions,\"r-\", label=\"Précision\")\n",
        "plt.plot(seuils, rappels, \"b-\", label=\"Rappel\")\n",
        "plt.plot(seuils, scores, \"s-\", label=\"Score\")\n",
        "plt.legend()\n",
        "plt.xlabel(\"Seuil\")\n",
        "plt.show()"
      ],
      "metadata": {
        "colab": {
          "base_uri": "https://localhost:8080/",
          "height": 279
        },
        "id": "lUnGmLT4Qb9R",
        "outputId": "ecddbca3-9fd9-4c90-9c63-405abbe6945a"
      },
      "execution_count": 18,
      "outputs": [
        {
          "output_type": "display_data",
          "data": {
            "text/plain": [
              "<Figure size 432x288 with 1 Axes>"
            ],
            "image/png": "[encoded data removed]"
          },
          "metadata": {
            "needs_background": "light"
          }
        }
      ]
    }
  ],
  "metadata": {
    "kernelspec": {
      "display_name": "Python 3",
      "language": "python",
      "name": "python3"
    },
    "language_info": {
      "codemirror_mode": {
        "name": "ipython",
        "version": 3
      },
      "file_extension": ".py",
      "mimetype": "text/x-python",
      "name": "python",
      "nbconvert_exporter": "python",
      "pygments_lexer": "ipython3",
      "version": "3.7.3"
    },
    "colab": {
      "provenance": [],
      "include_colab_link": true
    }
  },
  "nbformat": 4,
  "nbformat_minor": 0
}